{
 "cells": [
  {
   "cell_type": "code",
   "execution_count": null,
   "id": "8b640828",
   "metadata": {},
   "outputs": [],
   "source": [
    "import numpy as np\n",
    "import pandas as pd"
   ]
  },
  {
   "cell_type": "code",
   "execution_count": null,
   "id": "0868b6fd",
   "metadata": {},
   "outputs": [],
   "source": [
    "data = pd.read_excel('data/example_data.xlsx')"
   ]
  },
  {
   "cell_type": "code",
   "execution_count": null,
   "id": "c6fe45b2",
   "metadata": {},
   "outputs": [],
   "source": [
    "dataAsNumpy = data.to_numpy()"
   ]
  },
  {
   "cell_type": "code",
   "execution_count": null,
   "id": "fd97be71",
   "metadata": {},
   "outputs": [],
   "source": [
    "L = 256\n",
    "min_pixel_value = np.min(dataAsNumpy)\n",
    "max_pixel_value = np.max(dataAsNumpy)"
   ]
  },
  {
   "cell_type": "code",
   "execution_count": null,
   "id": "6018a403",
   "metadata": {},
   "outputs": [],
   "source": [
    "contrast_stretched_data = np.zeros_like(dataAsNumpy, dtype=np.float32)"
   ]
  },
  {
   "cell_type": "code",
   "execution_count": null,
   "id": "0c595b48",
   "metadata": {},
   "outputs": [],
   "source": [
    "for i in range(dataAsNumpy.shape[0]):\n",
    "    for j in range(dataAsNumpy.shape[1]):\n",
    "        contrast_stretched_data[i, j] = ((dataAsNumpy[i, j] - min_pixel_value) / (max_pixel_value - min_pixel_value)) * (L - 1)"
   ]
  },
  {
   "cell_type": "code",
   "execution_count": null,
   "id": "b58725e7",
   "metadata": {},
   "outputs": [],
   "source": [
    "new_contrast_stretched_data = contrast_stretched_data.astype(np.uint8)\n",
    "new_contrast_stretched_data_as_data_frame = pd.DataFrame(new_contrast_stretched_data)"
   ]
  },
  {
   "cell_type": "code",
   "execution_count": null,
   "id": "fa607ad3",
   "metadata": {},
   "outputs": [],
   "source": [
    "output_file_path = 'data/contrast_stretched_example_data.xlsx'\n",
    "new_contrast_stretched_data_as_data_frame.to_excel(output_file_path, index=False, header=False)\n",
    "print(new_contrast_stretched_data)\n",
    "print(\"------------------------------------------------------------------\")\n",
    "print(\"Contrast stretched data has been saved to: \", output_file_path)"
   ]
  }
 ],
 "metadata": {
  "jupytext": {
   "cell_metadata_filter": "-all",
   "main_language": "python",
   "notebook_metadata_filter": "-all"
  }
 },
 "nbformat": 4,
 "nbformat_minor": 5
}
